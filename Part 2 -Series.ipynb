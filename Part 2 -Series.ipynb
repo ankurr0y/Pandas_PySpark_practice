{
 "cells": [
  {
   "cell_type": "code",
   "execution_count": 1,
   "id": "cf3569fe-51d0-4218-9365-b871804d5435",
   "metadata": {},
   "outputs": [],
   "source": [
    "import pandas as pd\n",
    "import numpy as np"
   ]
  },
  {
   "cell_type": "code",
   "execution_count": 5,
   "id": "b3968a17-021b-4c87-bfa3-110e8429b967",
   "metadata": {},
   "outputs": [
    {
     "data": {
      "text/plain": [
       "0    Chocolate\n",
       "1      Vanilla\n",
       "dtype: object"
      ]
     },
     "execution_count": 5,
     "metadata": {},
     "output_type": "execute_result"
    }
   ],
   "source": [
    "ice_cream_flavors = [\n",
    "    \"Chocolate\",\n",
    "    \"Vanilla\",\n",
    "] #data must be passed in list\n",
    "pd.Series(ice_cream_flavors) #passing data in series"
   ]
  },
  {
   "cell_type": "code",
   "execution_count": 6,
   "id": "a8f947eb-129b-42c1-ad78-f123f7a4dc86",
   "metadata": {},
   "outputs": [
    {
     "data": {
      "text/plain": [
       "0    Chocolate\n",
       "1      Vanilla\n",
       "dtype: object"
      ]
     },
     "execution_count": 6,
     "metadata": {},
     "output_type": "execute_result"
    }
   ],
   "source": [
    "pd.Series(data = ice_cream_flavors) #passing explicitly"
   ]
  },
  {
   "cell_type": "code",
   "execution_count": 7,
   "id": "88e287e3-7452-4b49-a1ad-bd20fe0a68b3",
   "metadata": {},
   "outputs": [
    {
     "data": {
      "text/plain": [
       "Sunday    Chocolate\n",
       "Monday      Vanilla\n",
       "dtype: object"
      ]
     },
     "execution_count": 7,
     "metadata": {},
     "output_type": "execute_result"
    }
   ],
   "source": [
    "days_of_week = (\"Sunday\", \"Monday\") #index must be in tuple\n",
    "pd.Series(data=ice_cream_flavors, index=days_of_week)"
   ]
  },
  {
   "cell_type": "code",
   "execution_count": 9,
   "id": "243b8bd8-008e-4023-b01c-04b4aa52bb61",
   "metadata": {},
   "outputs": [
    {
     "data": {
      "text/plain": [
       "0    94.0\n",
       "1    88.0\n",
       "2     NaN\n",
       "3    44.0\n",
       "dtype: float64"
      ]
     },
     "execution_count": 9,
     "metadata": {},
     "output_type": "execute_result"
    }
   ],
   "source": [
    "#data passed in a series can be boolean, integer or float\n",
    "temperatures = [94, 88, np.nan, 44] #nan = not a number\n",
    "pd.Series(temperatures)#series where one index value is missing"
   ]
  },
  {
   "cell_type": "code",
   "execution_count": 10,
   "id": "6589fc91-95b5-4aa8-8136-8f8534a8e239",
   "metadata": {},
   "outputs": [
    {
     "data": {
      "text/plain": [
       "one      1\n",
       "two      2\n",
       "three    3\n",
       "dtype: int64"
      ]
     },
     "execution_count": 10,
     "metadata": {},
     "output_type": "execute_result"
    }
   ],
   "source": [
    "dictionary = {\"one\":1, \"two\":2, \"three\":3}\n",
    "dictionary = pd.Series(dictionary) #series from dictionary\n",
    "dictionary"
   ]
  },
  {
   "cell_type": "code",
   "execution_count": 11,
   "id": "1a90e3a8-6bc1-4cd8-8c00-f6beec9ebb3c",
   "metadata": {},
   "outputs": [
    {
     "data": {
      "text/plain": [
       "0      one\n",
       "1      two\n",
       "2    three\n",
       "dtype: object"
      ]
     },
     "execution_count": 11,
     "metadata": {},
     "output_type": "execute_result"
    }
   ],
   "source": [
    "pd.Series(data=(\"one\", \"two\", \"three\")) #from tuples"
   ]
  },
  {
   "cell_type": "code",
   "execution_count": 12,
   "id": "1586fa41-8e2c-4f4e-bb9f-14a8fec1439b",
   "metadata": {},
   "outputs": [
    {
     "data": {
      "text/plain": [
       "0     (11, 22)\n",
       "1    (33, 555)\n",
       "dtype: object"
      ]
     },
     "execution_count": 12,
     "metadata": {},
     "output_type": "execute_result"
    }
   ],
   "source": [
    "list_of_tuples = [(11,22),(33,555)]\n",
    "pd.Series(list_of_tuples) #List of tuples"
   ]
  },
  {
   "cell_type": "code",
   "execution_count": 13,
   "id": "8f2f60f0-470d-4f98-9e0f-593b87b3ebda",
   "metadata": {},
   "outputs": [
    {
     "data": {
      "text/plain": [
       "0     1\n",
       "1    33\n",
       "2     3\n",
       "3     4\n",
       "4    55\n",
       "dtype: int64"
      ]
     },
     "execution_count": 13,
     "metadata": {},
     "output_type": "execute_result"
    }
   ],
   "source": [
    "pd.Series(list({1,3,4,55,33})) #sets must be converted to list before being a series"
   ]
  },
  {
   "cell_type": "code",
   "execution_count": 14,
   "id": "06c6b318-eb1f-44f1-985a-1dc8e6c14abf",
   "metadata": {},
   "outputs": [
    {
     "data": {
      "text/plain": [
       "array([26, 16, 59, 41, 16, 42, 84, 99, 86, 48])"
      ]
     },
     "execution_count": 14,
     "metadata": {},
     "output_type": "execute_result"
    }
   ],
   "source": [
    "random_data = np.random.randint(1,101,10) # 10 random bumbers between 1 and 101\n",
    "random_data"
   ]
  },
  {
   "cell_type": "code",
   "execution_count": 15,
   "id": "9035d47e-ffcc-4099-9b0b-74112e518c55",
   "metadata": {},
   "outputs": [
    {
     "data": {
      "text/plain": [
       "array([1, 2, 3], dtype=int64)"
      ]
     },
     "execution_count": 15,
     "metadata": {},
     "output_type": "execute_result"
    }
   ],
   "source": [
    "dictionary.values #values in the series"
   ]
  },
  {
   "cell_type": "code",
   "execution_count": 16,
   "id": "8f89f90d-e3c9-4dd0-bd24-7649e7cc1576",
   "metadata": {},
   "outputs": [
    {
     "data": {
      "text/plain": [
       "numpy.ndarray"
      ]
     },
     "execution_count": 16,
     "metadata": {},
     "output_type": "execute_result"
    }
   ],
   "source": [
    "type(dictionary.values)"
   ]
  },
  {
   "cell_type": "code",
   "execution_count": 17,
   "id": "0be34d8e-fceb-4ef3-b38a-16782d7eebb8",
   "metadata": {},
   "outputs": [
    {
     "data": {
      "text/plain": [
       "Index(['one', 'two', 'three'], dtype='object')"
      ]
     },
     "execution_count": 17,
     "metadata": {},
     "output_type": "execute_result"
    }
   ],
   "source": [
    "dictionary.index #Value of indexes"
   ]
  },
  {
   "cell_type": "code",
   "execution_count": 18,
   "id": "361792ad-8551-4d46-8769-d96c2b2aeda9",
   "metadata": {},
   "outputs": [
    {
     "data": {
      "text/plain": [
       "dtype('int64')"
      ]
     },
     "execution_count": 18,
     "metadata": {},
     "output_type": "execute_result"
    }
   ],
   "source": [
    "dictionary.dtype"
   ]
  },
  {
   "cell_type": "code",
   "execution_count": 19,
   "id": "979d4fea-7209-4c5b-8c02-f420ed28a2c6",
   "metadata": {},
   "outputs": [
    {
     "data": {
      "text/plain": [
       "3"
      ]
     },
     "execution_count": 19,
     "metadata": {},
     "output_type": "execute_result"
    }
   ],
   "source": [
    "dictionary.size"
   ]
  },
  {
   "cell_type": "code",
   "execution_count": 20,
   "id": "e0c04589-1bfd-42a5-8d46-02fc4276511f",
   "metadata": {},
   "outputs": [
    {
     "data": {
      "text/plain": [
       "(3,)"
      ]
     },
     "execution_count": 20,
     "metadata": {},
     "output_type": "execute_result"
    }
   ],
   "source": [
    "dictionary.shape"
   ]
  },
  {
   "cell_type": "code",
   "execution_count": 21,
   "id": "4e27118e-d6ac-4b83-b71d-8099b119f4e2",
   "metadata": {},
   "outputs": [
    {
     "data": {
      "text/plain": [
       "True"
      ]
     },
     "execution_count": 21,
     "metadata": {},
     "output_type": "execute_result"
    }
   ],
   "source": [
    "dictionary.is_unique"
   ]
  },
  {
   "cell_type": "code",
   "execution_count": 22,
   "id": "74ae86b8-aca3-4d05-a2a6-472edd11568e",
   "metadata": {},
   "outputs": [
    {
     "data": {
      "text/plain": [
       "True"
      ]
     },
     "execution_count": 22,
     "metadata": {},
     "output_type": "execute_result"
    }
   ],
   "source": [
    "pd.Series(data = [1, 3, 6]).is_monotonic # Check if series is in ascending order"
   ]
  },
  {
   "cell_type": "code",
   "execution_count": 23,
   "id": "5d149f9f-c939-41f3-8df7-295cd70754cc",
   "metadata": {},
   "outputs": [
    {
     "data": {
      "text/plain": [
       "0       0\n",
       "1       5\n",
       "2      10\n",
       "3      15\n",
       "4      20\n",
       "     ... \n",
       "95    475\n",
       "96    480\n",
       "97    485\n",
       "98    490\n",
       "99    495\n",
       "Length: 100, dtype: int64"
      ]
     },
     "execution_count": 23,
     "metadata": {},
     "output_type": "execute_result"
    }
   ],
   "source": [
    "values = range(0,500,5)\n",
    "nums = pd.Series(data = values)\n",
    "nums"
   ]
  },
  {
   "cell_type": "code",
   "execution_count": 24,
   "id": "1c353fbc-01a2-42e3-883a-337641fe912c",
   "metadata": {},
   "outputs": [
    {
     "data": {
      "text/plain": [
       "0     0\n",
       "1     5\n",
       "2    10\n",
       "dtype: int64"
      ]
     },
     "execution_count": 24,
     "metadata": {},
     "output_type": "execute_result"
    }
   ],
   "source": [
    "nums.head(3)"
   ]
  },
  {
   "cell_type": "code",
   "execution_count": 25,
   "id": "f6e688d0-8cd3-491e-a938-e65b3cc78f5d",
   "metadata": {},
   "outputs": [
    {
     "data": {
      "text/plain": [
       "0    1.0\n",
       "1    2.0\n",
       "2    3.0\n",
       "3    NaN\n",
       "4    4.0\n",
       "5    5.0\n",
       "dtype: float64"
      ]
     },
     "execution_count": 25,
     "metadata": {},
     "output_type": "execute_result"
    }
   ],
   "source": [
    "numbers = pd.Series([1, 2, 3, np.nan, 4, 5])# Series with one nan         \n",
    "numbers"
   ]
  },
  {
   "cell_type": "code",
   "execution_count": 26,
   "id": "3a32f440-8fe6-481c-9df9-6f0634a00876",
   "metadata": {},
   "outputs": [
    {
     "data": {
      "text/plain": [
       "5"
      ]
     },
     "execution_count": 26,
     "metadata": {},
     "output_type": "execute_result"
    }
   ],
   "source": [
    "numbers.count# Count non numbers"
   ]
  },
  {
   "cell_type": "code",
   "execution_count": 27,
   "id": "995eba45-470b-4e25-8785-c0077d493241",
   "metadata": {},
   "outputs": [
    {
     "data": {
      "text/plain": [
       "15.0"
      ]
     },
     "execution_count": 27,
     "metadata": {},
     "output_type": "execute_result"
    }
   ],
   "source": [
    "numbers.sum()#if skipna = False, nan also counts"
   ]
  },
  {
   "cell_type": "code",
   "execution_count": 28,
   "id": "4b847f05-0ffb-4a0c-8fd7-213836100110",
   "metadata": {},
   "outputs": [
    {
     "data": {
      "text/plain": [
       "15.0"
      ]
     },
     "execution_count": 28,
     "metadata": {},
     "output_type": "execute_result"
    }
   ],
   "source": [
    "numbers.sum(min_count=3)# minimum 3 items"
   ]
  },
  {
   "cell_type": "code",
   "execution_count": 29,
   "id": "9181ba56-9286-47b7-bace-48af8439644a",
   "metadata": {},
   "outputs": [
    {
     "data": {
      "text/plain": [
       "nan"
      ]
     },
     "execution_count": 29,
     "metadata": {},
     "output_type": "execute_result"
    }
   ],
   "source": [
    "numbers.sum(min_count=6)# doesn't meet this requirement receives nan"
   ]
  },
  {
   "cell_type": "code",
   "execution_count": 30,
   "id": "a054f19b-be70-4452-971a-1f2a719c5afa",
   "metadata": {},
   "outputs": [
    {
     "data": {
      "text/plain": [
       "120.0"
      ]
     },
     "execution_count": 30,
     "metadata": {},
     "output_type": "execute_result"
    }
   ],
   "source": [
    "numbers.product()#product of non-nan"
   ]
  },
  {
   "cell_type": "code",
   "execution_count": 31,
   "id": "dc08a39d-6b27-4826-a182-9c5061d88aad",
   "metadata": {},
   "outputs": [
    {
     "data": {
      "text/plain": [
       "0     1.0\n",
       "1     3.0\n",
       "2     6.0\n",
       "3     NaN\n",
       "4    10.0\n",
       "5    15.0\n",
       "dtype: float64"
      ]
     },
     "execution_count": 31,
     "metadata": {},
     "output_type": "execute_result"
    }
   ],
   "source": [
    "numbers.cumsum()#Cumulative sum"
   ]
  },
  {
   "cell_type": "code",
   "execution_count": 32,
   "id": "cadee644-dccb-4618-838e-874b15c14635",
   "metadata": {},
   "outputs": [
    {
     "data": {
      "text/plain": [
       "0         NaN\n",
       "1    1.000000\n",
       "2    0.500000\n",
       "3    0.000000\n",
       "4    0.333333\n",
       "5    0.250000\n",
       "dtype: float64"
      ]
     },
     "execution_count": 32,
     "metadata": {},
     "output_type": "execute_result"
    }
   ],
   "source": [
    "numbers.pct_change()#change expressed percentage"
   ]
  },
  {
   "cell_type": "code",
   "execution_count": 34,
   "id": "5da12eac-0925-4128-9e88-5a04eafe99db",
   "metadata": {},
   "outputs": [
    {
     "data": {
      "text/plain": [
       "3.0"
      ]
     },
     "execution_count": 34,
     "metadata": {},
     "output_type": "execute_result"
    }
   ],
   "source": [
    "numbers.mean() #mean"
   ]
  },
  {
   "cell_type": "code",
   "execution_count": 35,
   "id": "be38806c-eb43-485a-950e-2d5441e6be96",
   "metadata": {},
   "outputs": [
    {
     "data": {
      "text/plain": [
       "3.0"
      ]
     },
     "execution_count": 35,
     "metadata": {},
     "output_type": "execute_result"
    }
   ],
   "source": [
    "numbers.median() #median"
   ]
  },
  {
   "cell_type": "code",
   "execution_count": 36,
   "id": "1847c69e-f57a-47a0-9835-d2aa389abb5e",
   "metadata": {},
   "outputs": [
    {
     "data": {
      "text/plain": [
       "1.5811388300841898"
      ]
     },
     "execution_count": 36,
     "metadata": {},
     "output_type": "execute_result"
    }
   ],
   "source": [
    "numbers.std() #SD"
   ]
  },
  {
   "cell_type": "code",
   "execution_count": 37,
   "id": "f6da190b-f719-4e8e-a910-a7f67853b748",
   "metadata": {},
   "outputs": [
    {
     "data": {
      "text/plain": [
       "5.0"
      ]
     },
     "execution_count": 37,
     "metadata": {},
     "output_type": "execute_result"
    }
   ],
   "source": [
    "numbers.max() #biggest"
   ]
  },
  {
   "cell_type": "code",
   "execution_count": 38,
   "id": "643e4c82-ef39-4763-ad19-12a4518d8a10",
   "metadata": {},
   "outputs": [
    {
     "data": {
      "text/plain": [
       "1.0"
      ]
     },
     "execution_count": 38,
     "metadata": {},
     "output_type": "execute_result"
    }
   ],
   "source": [
    "numbers.min() #smallest"
   ]
  },
  {
   "cell_type": "code",
   "execution_count": 39,
   "id": "20d4f1b7-127e-41b4-9732-b1c01a5e7dfa",
   "metadata": {},
   "outputs": [
    {
     "data": {
      "text/plain": [
       "count    5.000000\n",
       "mean     3.000000\n",
       "std      1.581139\n",
       "min      1.000000\n",
       "25%      2.000000\n",
       "50%      3.000000\n",
       "75%      4.000000\n",
       "max      5.000000\n",
       "dtype: float64"
      ]
     },
     "execution_count": 39,
     "metadata": {},
     "output_type": "execute_result"
    }
   ],
   "source": [
    "numbers.describe() #various values"
   ]
  },
  {
   "cell_type": "code",
   "execution_count": null,
   "id": "5337badd-7095-4dcb-9b1a-dffcfb6a8287",
   "metadata": {},
   "outputs": [],
   "source": []
  }
 ],
 "metadata": {
  "kernelspec": {
   "display_name": "Python 3 (ipykernel)",
   "language": "python",
   "name": "python3"
  },
  "language_info": {
   "codemirror_mode": {
    "name": "ipython",
    "version": 3
   },
   "file_extension": ".py",
   "mimetype": "text/x-python",
   "name": "python",
   "nbconvert_exporter": "python",
   "pygments_lexer": "ipython3",
   "version": "3.10.1"
  }
 },
 "nbformat": 4,
 "nbformat_minor": 5
}
